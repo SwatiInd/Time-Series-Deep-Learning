{
 "cells": [
  {
   "cell_type": "markdown",
   "metadata": {},
   "source": [
    "## Data Preparation: Time series data for CNN modeling\n",
    "\n",
    "Convolutional neural networks (CNNs) were traditionally used for image processing, but they can be used time series forecasting by converting the time series data into arrays compatible for CNN models.\n",
    "\n",
    "Two following functions are developed:\n",
    "1. Input time series to sequence: It can convert univariate or multivariate time series data to CNN sequences. Both training and test dataset need to be converted prior to fitting and predicting model, respectively.\n",
    "\n",
    "2. Output time series to sequence: The function can convert single or multiple output time series to arrays of sequence.\n",
    "\n",
    "The developed function is demonstrated for three cases:\n",
    "1. Univariate time series\n",
    "2. Multivariate time series\n",
    "3. Multioutput time series\n",
    "\n",
    "In this notebook, focus is in on data preparation. Therefore, the models parameters are kept the same for all the above mentioned example. It is not worth to tune hyperparameter for sample data."
   ]
  },
  {
   "cell_type": "code",
   "execution_count": 1,
   "metadata": {},
   "outputs": [],
   "source": [
    "import pandas as pd\n",
    "import numpy as np\n",
    "import matplotlib.pyplot as plt\n",
    "import tensorflow"
   ]
  },
  {
   "cell_type": "code",
   "execution_count": 118,
   "metadata": {},
   "outputs": [],
   "source": [
    "from keras.models import Sequential\n",
    "from keras.layers import Dense\n",
    "from keras.layers import Flatten\n",
    "from tensorflow.keras.layers import Conv1D\n",
    "from tensorflow.keras.layers import MaxPooling1D"
   ]
  },
  {
   "cell_type": "code",
   "execution_count": 3,
   "metadata": {},
   "outputs": [],
   "source": [
    "def input_df_to_sequence(input_df, input_columns,  sequence_size):\n",
    "    '''Converting input dataframe to an array of defined size\n",
    "    \n",
    "    Parameters\n",
    "    ---------\n",
    "    input_df: dataframe\n",
    "        A dataframe of time series (one or multiple) \n",
    "    input_columns: list\n",
    "        A list of columns to convert into sequence\n",
    "    sequence_size: int\n",
    "        Size of the time series data for sequencing\n",
    "\n",
    "    Returns\n",
    "    ------\n",
    "    input_array: array\n",
    "        A array consisting of input series(s) sequences of input columns\n",
    "    '''\n",
    "\n",
    "    input_layer = []\n",
    "    for index in input_df.index[0:len(input_df)-sequence_size+1]:\n",
    "        input_layer.append(input_df.loc[index:index+sequence_size-1, input_columns].values.tolist())\n",
    "    input_array = np.array(input_layer)\n",
    "    return input_array\n",
    "\n",
    "def output_df_to_sequence(output_df, output_columns, sequence_size):\n",
    "    '''Converting input dataframe to an array of defined size\n",
    "    \n",
    "    Parameters\n",
    "    ---------\n",
    "    input_df: dataframe\n",
    "        A dataframe of time series (one or multiple)\n",
    "    input_columns: list\n",
    "        A list of columns to convert into sequence\n",
    "    sequence_size: int\n",
    "        Size of the time series data for sequencing\n",
    "\n",
    "    Returns\n",
    "    ------\n",
    "    input_array: array\n",
    "        A array consisting of input series(s) sequences \n",
    "    '''\n",
    "\n",
    "    output_layer = []\n",
    "\n",
    "    if(len(output_columns)==1):  #for single output series\n",
    "        for index in output_df.index[0:len(output_df)-sequence_size+1]:\n",
    "            output_layer.append(output_df.loc[index+sequence_size-1, output_columns].values)\n",
    "        \n",
    "    else: # for multiple output series\n",
    "        for index in output_df.index[0:len(output_df)-sequence_size+1]:\n",
    "            output_layer.append(output_df.loc[index+sequence_size-1, output_columns].values.tolist())\n",
    "\n",
    "    output_array = np.array(output_layer)\n",
    "    return output_array\n"
   ]
  },
  {
   "cell_type": "markdown",
   "metadata": {},
   "source": [
    "**Train and test dataset**\n",
    "\n",
    "A dataframe is built which can be used as univariate or multivariate time series data by choosing one (e.g.: x1) or more columns (x1 and x2 both) of dataframe. \n",
    "\n",
    "1. Univariate time series: Input and output dataframes are same.\n",
    "\n",
    "     $y(t) = X_1 (t)$\n",
    "\n",
    "2. Multivariate time series: \n",
    "\n",
    "    $y(t) = X_1 (t) + X_2 (t)$\n",
    "\n",
    "3. Multiple output series: \n",
    "\n",
    "    $y_1(t) = X_1 (t) + X_2 (t)$\n",
    "\n",
    "    $y_2(t) = X_1 (t) + 2*X_2 (t)$"
   ]
  },
  {
   "cell_type": "code",
   "execution_count": 119,
   "metadata": {},
   "outputs": [
    {
     "data": {
      "text/html": [
       "<div>\n",
       "<style scoped>\n",
       "    .dataframe tbody tr th:only-of-type {\n",
       "        vertical-align: middle;\n",
       "    }\n",
       "\n",
       "    .dataframe tbody tr th {\n",
       "        vertical-align: top;\n",
       "    }\n",
       "\n",
       "    .dataframe thead th {\n",
       "        text-align: right;\n",
       "    }\n",
       "</style>\n",
       "<table border=\"1\" class=\"dataframe\">\n",
       "  <thead>\n",
       "    <tr style=\"text-align: right;\">\n",
       "      <th></th>\n",
       "      <th>x1</th>\n",
       "      <th>x2</th>\n",
       "    </tr>\n",
       "  </thead>\n",
       "  <tbody>\n",
       "    <tr>\n",
       "      <th>0</th>\n",
       "      <td>0</td>\n",
       "      <td>5</td>\n",
       "    </tr>\n",
       "    <tr>\n",
       "      <th>1</th>\n",
       "      <td>10</td>\n",
       "      <td>15</td>\n",
       "    </tr>\n",
       "    <tr>\n",
       "      <th>2</th>\n",
       "      <td>20</td>\n",
       "      <td>25</td>\n",
       "    </tr>\n",
       "    <tr>\n",
       "      <th>3</th>\n",
       "      <td>30</td>\n",
       "      <td>35</td>\n",
       "    </tr>\n",
       "    <tr>\n",
       "      <th>4</th>\n",
       "      <td>40</td>\n",
       "      <td>45</td>\n",
       "    </tr>\n",
       "  </tbody>\n",
       "</table>\n",
       "</div>"
      ],
      "text/plain": [
       "   x1  x2\n",
       "0   0   5\n",
       "1  10  15\n",
       "2  20  25\n",
       "3  30  35\n",
       "4  40  45"
      ]
     },
     "execution_count": 119,
     "metadata": {},
     "output_type": "execute_result"
    }
   ],
   "source": [
    "X1_train = np.arange(0, 100, 10).reshape(-1,1)\n",
    "X2_train = np.arange(5, 105, 10).reshape(-1,1)\n",
    "df_train = pd.DataFrame(np.hstack((X1_train, X2_train)),\n",
    "                        columns= ['x1', 'x2'])\n",
    "df_train.head()"
   ]
  },
  {
   "cell_type": "code",
   "execution_count": 120,
   "metadata": {},
   "outputs": [
    {
     "data": {
      "text/html": [
       "<div>\n",
       "<style scoped>\n",
       "    .dataframe tbody tr th:only-of-type {\n",
       "        vertical-align: middle;\n",
       "    }\n",
       "\n",
       "    .dataframe tbody tr th {\n",
       "        vertical-align: top;\n",
       "    }\n",
       "\n",
       "    .dataframe thead th {\n",
       "        text-align: right;\n",
       "    }\n",
       "</style>\n",
       "<table border=\"1\" class=\"dataframe\">\n",
       "  <thead>\n",
       "    <tr style=\"text-align: right;\">\n",
       "      <th></th>\n",
       "      <th>x1</th>\n",
       "      <th>x2</th>\n",
       "    </tr>\n",
       "  </thead>\n",
       "  <tbody>\n",
       "    <tr>\n",
       "      <th>0</th>\n",
       "      <td>105</td>\n",
       "      <td>115</td>\n",
       "    </tr>\n",
       "    <tr>\n",
       "      <th>1</th>\n",
       "      <td>115</td>\n",
       "      <td>125</td>\n",
       "    </tr>\n",
       "    <tr>\n",
       "      <th>2</th>\n",
       "      <td>125</td>\n",
       "      <td>135</td>\n",
       "    </tr>\n",
       "    <tr>\n",
       "      <th>3</th>\n",
       "      <td>135</td>\n",
       "      <td>145</td>\n",
       "    </tr>\n",
       "    <tr>\n",
       "      <th>4</th>\n",
       "      <td>145</td>\n",
       "      <td>155</td>\n",
       "    </tr>\n",
       "  </tbody>\n",
       "</table>\n",
       "</div>"
      ],
      "text/plain": [
       "    x1   x2\n",
       "0  105  115\n",
       "1  115  125\n",
       "2  125  135\n",
       "3  135  145\n",
       "4  145  155"
      ]
     },
     "execution_count": 120,
     "metadata": {},
     "output_type": "execute_result"
    }
   ],
   "source": [
    "X1_test =  np.arange(105, 205, 10).reshape(-1, 1)\n",
    "X2_test = np.arange(115, 215, 10).reshape(-1,1)\n",
    "\n",
    "# print(X1_test.shape, X2_test.shape)\n",
    "df_test = pd.DataFrame(np.hstack((X1_test, X2_test)), columns = ['x1', 'x2'])\n",
    "df_test.head()"
   ]
  },
  {
   "cell_type": "markdown",
   "metadata": {},
   "source": [
    "### Univariate time series\n",
    "\n",
    "Both the input and output time series are considered from column $x_1$"
   ]
  },
  {
   "cell_type": "code",
   "execution_count": 121,
   "metadata": {},
   "outputs": [
    {
     "name": "stdout",
     "output_type": "stream",
     "text": [
      "[[ 0]\n",
      " [10]\n",
      " [20]] [20]\n",
      "[[10]\n",
      " [20]\n",
      " [30]] [30]\n"
     ]
    }
   ],
   "source": [
    "input_columns = ['x1']\n",
    "X_train = df_train[input_columns]\n",
    "\n",
    "output_columns = ['x1']\n",
    "y_train = df_train[output_columns]\n",
    "\n",
    "sequence_size = 3\n",
    "X_train = input_df_to_sequence(X_train, input_columns = input_columns, sequence_size = sequence_size)\n",
    "y_train = output_df_to_sequence(y_train, output_columns = output_columns, sequence_size= sequence_size)\n",
    "for i in [0,1]:\n",
    "    print(X_train[i], y_train[i])"
   ]
  },
  {
   "cell_type": "code",
   "execution_count": 105,
   "metadata": {},
   "outputs": [
    {
     "data": {
      "text/plain": [
       "<keras.src.callbacks.history.History at 0x1df4356bb10>"
      ]
     },
     "execution_count": 105,
     "metadata": {},
     "output_type": "execute_result"
    }
   ],
   "source": [
    "\n",
    "model = Sequential()\n",
    "model.add(Conv1D(filters=64, kernel_size=2, activation='relu', \n",
    "                #  input_shape=(n_steps, n_features)\n",
    "                 ))\n",
    "model.add(MaxPooling1D(pool_size=2))\n",
    "model.add(Flatten())\n",
    "model.add(Dense(50, activation='relu'))\n",
    "model.add(Dense(1))\n",
    "model.compile(optimizer='adam', loss='mse')\n",
    "# fit model\n",
    "model.fit(X_train, y_train, epochs=1000, verbose=0)\n"
   ]
  },
  {
   "cell_type": "code",
   "execution_count": 117,
   "metadata": {},
   "outputs": [
    {
     "name": "stdout",
     "output_type": "stream",
     "text": [
      "\u001b[1m1/1\u001b[0m \u001b[32m━━━━━━━━━━━━━━━━━━━━\u001b[0m\u001b[37m\u001b[0m \u001b[1m0s\u001b[0m 84ms/step\n",
      "predicted actual\n",
      "127.02 125\n",
      "137.61 135\n",
      "148.18 145\n",
      "158.75 155\n",
      "169.32 165\n"
     ]
    }
   ],
   "source": [
    "X_test = input_df_to_sequence(df_test, \n",
    "                              input_columns=input_columns,\n",
    "                               sequence_size= sequence_size )\n",
    "# X_test\n",
    "y_predict = model.predict(X_test)\n",
    "print('predicted', 'actual')\n",
    "for i in range(0, 5, 1):\n",
    "    print(\"{:0.2f}\".format(y_predict[i][0]), df_test.loc[i+2, 'x1'])"
   ]
  },
  {
   "cell_type": "markdown",
   "metadata": {},
   "source": [
    "### Multivariate Time Series\n",
    "\n",
    "Time series can have two or more input time series and output  depends on these series. An example of adding two time series is demonstrated below:\n",
    "\n",
    "$y(t) = X_1 (t) + X_2 (t)$"
   ]
  },
  {
   "cell_type": "code",
   "execution_count": 122,
   "metadata": {},
   "outputs": [
    {
     "data": {
      "text/html": [
       "<div>\n",
       "<style scoped>\n",
       "    .dataframe tbody tr th:only-of-type {\n",
       "        vertical-align: middle;\n",
       "    }\n",
       "\n",
       "    .dataframe tbody tr th {\n",
       "        vertical-align: top;\n",
       "    }\n",
       "\n",
       "    .dataframe thead th {\n",
       "        text-align: right;\n",
       "    }\n",
       "</style>\n",
       "<table border=\"1\" class=\"dataframe\">\n",
       "  <thead>\n",
       "    <tr style=\"text-align: right;\">\n",
       "      <th></th>\n",
       "      <th>x1</th>\n",
       "      <th>x2</th>\n",
       "      <th>y</th>\n",
       "    </tr>\n",
       "  </thead>\n",
       "  <tbody>\n",
       "    <tr>\n",
       "      <th>0</th>\n",
       "      <td>0</td>\n",
       "      <td>5</td>\n",
       "      <td>5</td>\n",
       "    </tr>\n",
       "    <tr>\n",
       "      <th>1</th>\n",
       "      <td>10</td>\n",
       "      <td>15</td>\n",
       "      <td>25</td>\n",
       "    </tr>\n",
       "    <tr>\n",
       "      <th>2</th>\n",
       "      <td>20</td>\n",
       "      <td>25</td>\n",
       "      <td>45</td>\n",
       "    </tr>\n",
       "    <tr>\n",
       "      <th>3</th>\n",
       "      <td>30</td>\n",
       "      <td>35</td>\n",
       "      <td>65</td>\n",
       "    </tr>\n",
       "    <tr>\n",
       "      <th>4</th>\n",
       "      <td>40</td>\n",
       "      <td>45</td>\n",
       "      <td>85</td>\n",
       "    </tr>\n",
       "  </tbody>\n",
       "</table>\n",
       "</div>"
      ],
      "text/plain": [
       "   x1  x2   y\n",
       "0   0   5   5\n",
       "1  10  15  25\n",
       "2  20  25  45\n",
       "3  30  35  65\n",
       "4  40  45  85"
      ]
     },
     "execution_count": 122,
     "metadata": {},
     "output_type": "execute_result"
    }
   ],
   "source": [
    "mv_train = df_train.copy() #multivariate time \n",
    "mv_train.loc[:, 'y'] = mv_train['x1'] + mv_train['x2'] #Creating the output column 'c'\n",
    "mv_train.head()"
   ]
  },
  {
   "cell_type": "code",
   "execution_count": 123,
   "metadata": {},
   "outputs": [
    {
     "name": "stdout",
     "output_type": "stream",
     "text": [
      "[[ 0  5]\n",
      " [10 15]\n",
      " [20 25]] [45]\n",
      "[[10 15]\n",
      " [20 25]\n",
      " [30 35]] [65]\n"
     ]
    }
   ],
   "source": [
    "input_columns, output_columns = ['x1', 'x2'], ['y']\n",
    "X_train = mv_train[input_columns]\n",
    "y_train = mv_train[output_columns]\n",
    "\n",
    "# Converting input and output time series to sequences\n",
    "sequence_size = 3\n",
    "X_train = input_df_to_sequence(X_train, input_columns = input_columns, sequence_size = sequence_size)\n",
    "y_train = output_df_to_sequence(y_train, output_columns = output_columns, sequence_size= sequence_size)\n",
    "for i in [0,1]:\n",
    "    print(X_train[i], y_train[i])"
   ]
  },
  {
   "cell_type": "code",
   "execution_count": 16,
   "metadata": {},
   "outputs": [
    {
     "data": {
      "text/plain": [
       "<keras.src.callbacks.history.History at 0x1df39ee6f50>"
      ]
     },
     "execution_count": 16,
     "metadata": {},
     "output_type": "execute_result"
    }
   ],
   "source": [
    "model = Sequential()\n",
    "model.add(Conv1D(filters=64, kernel_size=2, activation='relu', \n",
    "                #  input_shape=(n_steps, n_features)\n",
    "                 ))\n",
    "model.add(MaxPooling1D(pool_size=2))\n",
    "model.add(Flatten())\n",
    "model.add(Dense(50, activation='relu'))\n",
    "model.add(Dense(1))\n",
    "model.compile(optimizer='adam', loss='mse')\n",
    "# fit model\n",
    "model.fit(X_train, y_train, epochs=1000, verbose=0)"
   ]
  },
  {
   "cell_type": "code",
   "execution_count": 61,
   "metadata": {},
   "outputs": [
    {
     "name": "stdout",
     "output_type": "stream",
     "text": [
      "\u001b[1m1/1\u001b[0m \u001b[32m━━━━━━━━━━━━━━━━━━━━\u001b[0m\u001b[37m\u001b[0m \u001b[1m0s\u001b[0m 39ms/step\n",
      "Predicted Actual\n",
      "263.05 260\n",
      "283.68 280\n",
      "304.53 300\n",
      "325.38 320\n",
      "346.22 340\n"
     ]
    }
   ],
   "source": [
    "X_test = input_df_to_sequence(df_test, \n",
    "                              input_columns=input_columns,\n",
    "                               sequence_size= sequence_size )\n",
    "# X_test\n",
    "y_predict = model.predict(X_test)\n",
    "print('Predicted', 'Actual')\n",
    "for i in range(0, 5, 1):\n",
    "    predicted = y_predict[i][0]\n",
    "    actual = df_test.loc[i+2].sum(axis =0)\n",
    "    print (\"{:0.2f}\".format(predicted), actual)\n",
    "# y_predict"
   ]
  },
  {
   "cell_type": "markdown",
   "metadata": {},
   "source": [
    "### Multiple Output Series\n",
    "\n",
    "It is also possible to predict multiple parallel time series and a value must be predicted for each of them. \n",
    "\n",
    "An example is illustrated below in which both addition and substration of two time series will be modelled and predicted.\n",
    "\n",
    "$y_1 (t) = X_1 (t) + X_2 (t)$\n",
    "\n",
    "$y_2 (t) = X_1 (t) +2*X_2 (t)$\n"
   ]
  },
  {
   "cell_type": "code",
   "execution_count": 124,
   "metadata": {},
   "outputs": [
    {
     "data": {
      "text/html": [
       "<div>\n",
       "<style scoped>\n",
       "    .dataframe tbody tr th:only-of-type {\n",
       "        vertical-align: middle;\n",
       "    }\n",
       "\n",
       "    .dataframe tbody tr th {\n",
       "        vertical-align: top;\n",
       "    }\n",
       "\n",
       "    .dataframe thead th {\n",
       "        text-align: right;\n",
       "    }\n",
       "</style>\n",
       "<table border=\"1\" class=\"dataframe\">\n",
       "  <thead>\n",
       "    <tr style=\"text-align: right;\">\n",
       "      <th></th>\n",
       "      <th>x1</th>\n",
       "      <th>x2</th>\n",
       "      <th>y1</th>\n",
       "      <th>y2</th>\n",
       "    </tr>\n",
       "  </thead>\n",
       "  <tbody>\n",
       "    <tr>\n",
       "      <th>0</th>\n",
       "      <td>0</td>\n",
       "      <td>5</td>\n",
       "      <td>5</td>\n",
       "      <td>10</td>\n",
       "    </tr>\n",
       "    <tr>\n",
       "      <th>1</th>\n",
       "      <td>10</td>\n",
       "      <td>15</td>\n",
       "      <td>25</td>\n",
       "      <td>40</td>\n",
       "    </tr>\n",
       "    <tr>\n",
       "      <th>2</th>\n",
       "      <td>20</td>\n",
       "      <td>25</td>\n",
       "      <td>45</td>\n",
       "      <td>70</td>\n",
       "    </tr>\n",
       "    <tr>\n",
       "      <th>3</th>\n",
       "      <td>30</td>\n",
       "      <td>35</td>\n",
       "      <td>65</td>\n",
       "      <td>100</td>\n",
       "    </tr>\n",
       "    <tr>\n",
       "      <th>4</th>\n",
       "      <td>40</td>\n",
       "      <td>45</td>\n",
       "      <td>85</td>\n",
       "      <td>130</td>\n",
       "    </tr>\n",
       "  </tbody>\n",
       "</table>\n",
       "</div>"
      ],
      "text/plain": [
       "   x1  x2  y1   y2\n",
       "0   0   5   5   10\n",
       "1  10  15  25   40\n",
       "2  20  25  45   70\n",
       "3  30  35  65  100\n",
       "4  40  45  85  130"
      ]
     },
     "execution_count": 124,
     "metadata": {},
     "output_type": "execute_result"
    }
   ],
   "source": [
    "mo_train = df_train.copy()\n",
    "mo_train.loc[:, 'y1'] = mo_train['x1'] + mo_train['x2']\n",
    "mo_train.loc[:, 'y2'] = mo_train['x1'] + 2*mo_train['x2']\n",
    "mo_train.head()"
   ]
  },
  {
   "cell_type": "code",
   "execution_count": 125,
   "metadata": {},
   "outputs": [
    {
     "name": "stdout",
     "output_type": "stream",
     "text": [
      "[[ 0  5]\n",
      " [10 15]\n",
      " [20 25]] [45 70]\n",
      "[[10 15]\n",
      " [20 25]\n",
      " [30 35]] [ 65 100]\n"
     ]
    }
   ],
   "source": [
    "input_columns, output_columns = ['x1', 'x2'], ['y1', 'y2']\n",
    "X_train = mo_train[input_columns]\n",
    "y_train = mo_train[output_columns]\n",
    "\n",
    "# Converting input and output time series to sequences\n",
    "sequence_size = 3\n",
    "X_train = input_df_to_sequence(X_train, input_columns = input_columns, sequence_size = sequence_size)\n",
    "y_train = output_df_to_sequence(y_train, output_columns = output_columns, sequence_size= sequence_size)\n",
    "for i in [0,1]:\n",
    "    print(X_train[i], y_train[i])"
   ]
  },
  {
   "cell_type": "code",
   "execution_count": 82,
   "metadata": {},
   "outputs": [
    {
     "data": {
      "text/plain": [
       "<keras.src.callbacks.history.History at 0x1df40c8ad10>"
      ]
     },
     "execution_count": 82,
     "metadata": {},
     "output_type": "execute_result"
    }
   ],
   "source": [
    "model = Sequential()\n",
    "model.add(Conv1D(filters=64, kernel_size=2, activation='relu', \n",
    "                #  input_shape=(n_steps, n_features)\n",
    "                 ))\n",
    "model.add(MaxPooling1D(pool_size=2))\n",
    "model.add(Flatten())\n",
    "model.add(Dense(50, activation='relu'))\n",
    "model.add(Dense(2))\n",
    "model.compile(optimizer='adam', loss='mse')\n",
    "# fit model\n",
    "model.fit(X_train, y_train, epochs=1000, verbose=0)"
   ]
  },
  {
   "cell_type": "code",
   "execution_count": 103,
   "metadata": {},
   "outputs": [
    {
     "name": "stdout",
     "output_type": "stream",
     "text": [
      "\u001b[1m1/1\u001b[0m \u001b[32m━━━━━━━━━━━━━━━━━━━━\u001b[0m\u001b[37m\u001b[0m \u001b[1m0s\u001b[0m 37ms/step\n",
      "[262.61313 399.00787] [260, 395]\n",
      "[283.3601  430.66052] [280, 425]\n",
      "[304.1071  462.31326] [300, 455]\n",
      "[324.8593  493.97247] [320, 485]\n",
      "[345.62524 525.64856] [340, 515]\n"
     ]
    }
   ],
   "source": [
    "X_test = input_df_to_sequence(df_test, \n",
    "                              input_columns=input_columns,\n",
    "                               sequence_size= sequence_size )\n",
    "# X_test\n",
    "y_predict = model.predict(X_test)\n",
    "y_predict\n",
    "# print('Predicted', 'Actual')\n",
    "for i in range(0, 5, 1):\n",
    "    predicted = y_predict[i]\n",
    "    actual = [(df_test.loc[i+2,'x1']+df_test.loc[i+2, 'x2']).item(), (df_test.loc[i+2, 'x1']+2*df_test.loc[i+2, 'x2']).item()]\n",
    "\n",
    "    print ((predicted), actual)\n"
   ]
  },
  {
   "cell_type": "markdown",
   "metadata": {},
   "source": [
    "The developed functions of converting input and output time series data are useful for all possible types of series (univariate, multivariate, multiple output series.). "
   ]
  }
 ],
 "metadata": {
  "kernelspec": {
   "display_name": "ml",
   "language": "python",
   "name": "python3"
  },
  "language_info": {
   "codemirror_mode": {
    "name": "ipython",
    "version": 3
   },
   "file_extension": ".py",
   "mimetype": "text/x-python",
   "name": "python",
   "nbconvert_exporter": "python",
   "pygments_lexer": "ipython3",
   "version": "3.11.9"
  }
 },
 "nbformat": 4,
 "nbformat_minor": 2
}
